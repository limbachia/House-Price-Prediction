{
 "cells": [
  {
   "cell_type": "code",
   "execution_count": 1,
   "metadata": {},
   "outputs": [],
   "source": [
    "# Import useful libraries\n",
    "import pandas as pd\n",
    "import numpy as np\n",
    "import pickle\n",
    "import matplotlib.pyplot as plt\n",
    "\n",
    "from collections import defaultdict\n",
    "\n",
    "import matplotlib as mpl\n",
    "import seaborn as sns\n",
    "sns.set(style ='white',font_scale=1.25)\n",
    "%matplotlib inline\n",
    "\n",
    "from sklearn.linear_model import Ridge, Lasso, ElasticNet\n",
    "from sklearn.metrics import r2_score, mean_squared_error\n",
    "\n",
    "# Set waring to 'ignore' to prevent them from prining on screen\n",
    "import warnings\n",
    "warnings.filterwarnings('ignore')"
   ]
  },
  {
   "cell_type": "code",
   "execution_count": 2,
   "metadata": {},
   "outputs": [],
   "source": [
    "with open('data/processed_data.pkl','rb') as file:\n",
    "    train,y,test,FEATURES = pickle.load(file)\n",
    "\n",
    "for feat in ['ExterQual','KitchenQual']:\n",
    "    train[feat] = train[feat].astype(np.float)\n",
    "    test[feat] = test[feat].astype(np.float)\n",
    "#test.loc[test['KitchenQual']=='Missing','KitchenQual'] = np.median(train[\"KitchenQual\"])"
   ]
  },
  {
   "cell_type": "code",
   "execution_count": 3,
   "metadata": {},
   "outputs": [
    {
     "name": "stdout",
     "output_type": "stream",
     "text": [
      "Total 246 features to normalize\n"
     ]
    }
   ],
   "source": [
    "feat_to_norm = FEATURES['num'] + FEATURES['aug_num'] + FEATURES['eng_num'] + FEATURES['ord_num'] + FEATURES['interactions_num']\n",
    "print('Total %i features to normalize' %(len(feat_to_norm)))"
   ]
  },
  {
   "cell_type": "code",
   "execution_count": 4,
   "metadata": {},
   "outputs": [
    {
     "name": "stdout",
     "output_type": "stream",
     "text": [
      "X_train_preproc : (1454, 466)\n",
      "X_test_preproc : (1459, 466)\n"
     ]
    }
   ],
   "source": [
    "from sklearn.preprocessing import StandardScaler\n",
    "\n",
    "ss = StandardScaler()\n",
    "ss.fit(train[feat_to_norm])\n",
    "\n",
    "X_num_train_norm = pd.DataFrame(ss.transform(train[feat_to_norm]),columns=feat_to_norm,index=train.index)\n",
    "X_cat_train = train[[col for col in train.columns if col not in feat_to_norm]]\n",
    "X_train_preproc = pd.concat([X_num_train_norm,X_cat_train],axis=1)\n",
    "\n",
    "X_num_test_norm = pd.DataFrame(ss.transform(test[feat_to_norm]),columns=feat_to_norm,index=test.index)\n",
    "X_cat_test = test[[col for col in test.columns if col not in feat_to_norm]]\n",
    "X_test_preproc = pd.concat([X_num_test_norm,X_cat_test],axis=1)\n",
    "\n",
    "print(\"X_train_preproc : \" + str(X_train_preproc.shape))\n",
    "print(\"X_test_preproc : \" + str(X_test_preproc.shape))"
   ]
  },
  {
   "cell_type": "markdown",
   "metadata": {},
   "source": [
    "## Ridge"
   ]
  },
  {
   "cell_type": "code",
   "execution_count": 5,
   "metadata": {},
   "outputs": [
    {
     "name": "stdout",
     "output_type": "stream",
     "text": [
      "Train accuracies:\n",
      "--------------------------------------------------\n",
      "R-sq: 0.9374962646711976\n",
      "MSE: 0.009936699767063854\n",
      "RMSE: 0.09968299637884012\n",
      "--------------------------------------------------\n",
      "R-sq orig price: 0.9388818146952416\n",
      "MSE orig price: 383926189.8165709\n",
      "RMSE orig price: 19594.03454668208\n"
     ]
    }
   ],
   "source": [
    "ridge = Ridge(alpha=30)\n",
    "ridge.fit(X_train_preproc, y)\n",
    "y_pred = ridge.predict(X_train_preproc)\n",
    "\n",
    "print('Train accuracies:')\n",
    "print('-'*50)\n",
    "print('R-sq:', r2_score(y, y_pred))\n",
    "print('MSE:', mean_squared_error(y, y_pred))\n",
    "print('RMSE:', np.sqrt(mean_squared_error(y, y_pred)))\n",
    "\n",
    "y_exp = np.expm1(y)\n",
    "y_pred_exp = np.expm1(y_pred)\n",
    "print('-'*50)\n",
    "print('R-sq orig price:', r2_score(y_exp, y_pred_exp))\n",
    "print('MSE orig price:', mean_squared_error(y_exp, y_pred_exp))\n",
    "print('RMSE orig price:', np.sqrt(mean_squared_error(y_exp, y_pred_exp)))"
   ]
  },
  {
   "cell_type": "code",
   "execution_count": 6,
   "metadata": {},
   "outputs": [],
   "source": [
    "y_test_pred = ridge.predict(X_test_preproc)\n",
    "y_test_pred_exp = np.expm1(y_test_pred)\n",
    "\n",
    "test_predictions = pd.Series(y_test_pred_exp,index=X_test_preproc.index,name='SalePrice').to_frame()\n",
    "test_predictions.to_csv('data/Limbachia_ridge_predictions.csv')"
   ]
  },
  {
   "cell_type": "markdown",
   "metadata": {},
   "source": [
    "## Lasso"
   ]
  },
  {
   "cell_type": "code",
   "execution_count": 7,
   "metadata": {},
   "outputs": [
    {
     "name": "stdout",
     "output_type": "stream",
     "text": [
      "Train accuracies:\n",
      "--------------------------------------------------\n",
      "R-sq: 0.9410137045535535\n",
      "MSE: 0.009377505282513417\n",
      "RMSE: 0.09683752001426625\n",
      "--------------------------------------------------\n",
      "R-sq orig price: 0.9446761515810551\n",
      "MSE orig price: 347527895.72470134\n",
      "RMSE orig price: 18642.100088903648\n"
     ]
    }
   ],
   "source": [
    "lasso = Lasso(alpha=0.0003)\n",
    "lasso.fit(X_train_preproc, y)\n",
    "y_pred = lasso.predict(X_train_preproc)\n",
    "\n",
    "print('Train accuracies:')\n",
    "print('-'*50)\n",
    "print('R-sq:', r2_score(y, y_pred))\n",
    "print('MSE:', mean_squared_error(y, y_pred))\n",
    "print('RMSE:', np.sqrt(mean_squared_error(y, y_pred)))\n",
    "\n",
    "y_exp = np.expm1(y)\n",
    "y_pred_exp = np.expm1(y_pred)\n",
    "print('-'*50)\n",
    "print('R-sq orig price:', r2_score(y_exp, y_pred_exp))\n",
    "print('MSE orig price:', mean_squared_error(y_exp, y_pred_exp))\n",
    "print('RMSE orig price:', np.sqrt(mean_squared_error(y_exp, y_pred_exp)))"
   ]
  },
  {
   "cell_type": "code",
   "execution_count": 8,
   "metadata": {},
   "outputs": [],
   "source": [
    "y_test_pred = lasso.predict(X_test_preproc)\n",
    "y_test_pred_exp = np.expm1(y_test_pred)\n",
    "\n",
    "test_predictions = pd.Series(y_test_pred_exp,index=X_test_preproc.index,name='SalePrice').to_frame()\n",
    "test_predictions.to_csv('data/Limbachia_lasso_predictions.csv')"
   ]
  },
  {
   "cell_type": "markdown",
   "metadata": {},
   "source": [
    "## ElasticNet(l1_ratio=0.9,alpha=0.0006)"
   ]
  },
  {
   "cell_type": "code",
   "execution_count": 9,
   "metadata": {},
   "outputs": [
    {
     "name": "stdout",
     "output_type": "stream",
     "text": [
      "Train accuracies:\n",
      "--------------------------------------------------\n",
      "R-sq: 0.93423068574252\n",
      "MSE: 0.010455853977755752\n",
      "RMSE: 0.10225387023362857\n",
      "--------------------------------------------------\n",
      "R-sq orig price: 0.936444670871035\n",
      "MSE orig price: 399235599.57402647\n",
      "RMSE orig price: 19980.880850804013\n"
     ]
    }
   ],
   "source": [
    "enet = ElasticNet(l1_ratio=0.9,alpha=0.0006)\n",
    "enet.fit(X_train_preproc, y)\n",
    "y_pred = enet.predict(X_train_preproc)\n",
    "\n",
    "print('Train accuracies:')\n",
    "print('-'*50)\n",
    "print('R-sq:', r2_score(y, y_pred))\n",
    "print('MSE:', mean_squared_error(y, y_pred))\n",
    "print('RMSE:', np.sqrt(mean_squared_error(y, y_pred)))\n",
    "\n",
    "y_exp = np.expm1(y)\n",
    "y_pred_exp = np.expm1(y_pred)\n",
    "print('-'*50)\n",
    "print('R-sq orig price:', r2_score(y_exp, y_pred_exp))\n",
    "print('MSE orig price:', mean_squared_error(y_exp, y_pred_exp))\n",
    "print('RMSE orig price:', np.sqrt(mean_squared_error(y_exp, y_pred_exp)))"
   ]
  },
  {
   "cell_type": "code",
   "execution_count": 10,
   "metadata": {},
   "outputs": [],
   "source": [
    "y_test_pred = enet.predict(X_test_preproc)\n",
    "y_test_pred_exp = np.expm1(y_test_pred)\n",
    "\n",
    "test_predictions = pd.Series(y_test_pred_exp,index=X_test_preproc.index,name='SalePrice').to_frame()\n",
    "test_predictions.to_csv('data/Limbachia_enet_predictions.csv')"
   ]
  },
  {
   "cell_type": "code",
   "execution_count": null,
   "metadata": {},
   "outputs": [],
   "source": []
  }
 ],
 "metadata": {
  "kernelspec": {
   "display_name": "Python 3",
   "language": "python",
   "name": "python3"
  },
  "language_info": {
   "codemirror_mode": {
    "name": "ipython",
    "version": 3
   },
   "file_extension": ".py",
   "mimetype": "text/x-python",
   "name": "python",
   "nbconvert_exporter": "python",
   "pygments_lexer": "ipython3",
   "version": "3.7.3"
  }
 },
 "nbformat": 4,
 "nbformat_minor": 4
}
